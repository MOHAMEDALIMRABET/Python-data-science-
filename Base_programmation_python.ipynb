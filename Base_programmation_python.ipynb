{
 "cells": [
  {
   "cell_type": "code",
   "execution_count": 2,
   "metadata": {},
   "outputs": [
    {
     "data": {
      "text/plain": [
       "True"
      ]
     },
     "execution_count": 2,
     "metadata": {},
     "output_type": "execute_result"
    }
   ],
   "source": [
    "#premier operateur de comparaison : ==\n",
    "1 == 1"
   ]
  },
  {
   "cell_type": "code",
   "execution_count": 5,
   "metadata": {},
   "outputs": [
    {
     "data": {
      "text/plain": [
       "True"
      ]
     },
     "execution_count": 5,
     "metadata": {},
     "output_type": "execute_result"
    }
   ],
   "source": [
    "#deuxieme operateur de comparaison : !=\n",
    "1 != 2"
   ]
  },
  {
   "cell_type": "code",
   "execution_count": 8,
   "metadata": {},
   "outputs": [
    {
     "data": {
      "text/plain": [
       "False"
      ]
     },
     "execution_count": 8,
     "metadata": {},
     "output_type": "execute_result"
    }
   ],
   "source": [
    "#troisieme operateur de comparaison : >\n",
    "1>2"
   ]
  },
  {
   "cell_type": "code",
   "execution_count": 12,
   "metadata": {},
   "outputs": [
    {
     "data": {
      "text/plain": [
       "False"
      ]
     },
     "execution_count": 12,
     "metadata": {},
     "output_type": "execute_result"
    }
   ],
   "source": [
    "#premiere operateur logique : and\n",
    "1==1 and 1==2"
   ]
  },
  {
   "cell_type": "code",
   "execution_count": 13,
   "metadata": {},
   "outputs": [
    {
     "data": {
      "text/plain": [
       "True"
      ]
     },
     "execution_count": 13,
     "metadata": {},
     "output_type": "execute_result"
    }
   ],
   "source": [
    "1==1 or 1==2"
   ]
  },
  {
   "cell_type": "code",
   "execution_count": 14,
   "metadata": {},
   "outputs": [
    {
     "data": {
      "text/plain": [
       "False"
      ]
     },
     "execution_count": 14,
     "metadata": {},
     "output_type": "execute_result"
    }
   ],
   "source": [
    "#deuxieme operateur logique : not\n",
    "not(1==1 or 1==2)"
   ]
  },
  {
   "cell_type": "code",
   "execution_count": 15,
   "metadata": {},
   "outputs": [],
   "source": [
    "ma_variable1 = 2\n",
    "ma_variable2 = 6\n",
    "ma_variable3 = \"hello\""
   ]
  },
  {
   "cell_type": "code",
   "execution_count": 20,
   "metadata": {},
   "outputs": [
    {
     "name": "stdout",
     "output_type": "stream",
     "text": [
      "la comparaion est vrai\n"
     ]
    }
   ],
   "source": [
    "if (ma_variable1 == 2) and (ma_variable3 == \"hello\"):\n",
    "    print(\"la comparaion est vrai\")\n",
    "else:\n",
    "    print(\"la comparaison est fausse\")"
   ]
  },
  {
   "cell_type": "code",
   "execution_count": 31,
   "metadata": {},
   "outputs": [],
   "source": [
    "ma_liste = [1,2,3,4,5,6,7,8,9,10]"
   ]
  },
  {
   "cell_type": "code",
   "execution_count": 32,
   "metadata": {},
   "outputs": [
    {
     "name": "stdout",
     "output_type": "stream",
     "text": [
      "1  =>  2\n",
      "2  =>  4\n",
      "3  =>  6\n",
      "4  =>  8\n",
      "5  =>  10\n",
      "6  =>  12\n",
      "7  =>  14\n",
      "8  =>  16\n",
      "9  =>  18\n",
      "10  =>  20\n"
     ]
    }
   ],
   "source": [
    "for ma_valeur in ma_liste:\n",
    "    result = ma_valeur*2\n",
    "    print(ma_valeur,\" => \",result)"
   ]
  },
  {
   "cell_type": "code",
   "execution_count": 33,
   "metadata": {},
   "outputs": [
    {
     "name": "stdout",
     "output_type": "stream",
     "text": [
      "le multiplication de 2 * 1 = 2\n",
      "le multiplication de 2 * 2 = 4\n",
      "le multiplication de 2 * 3 = 6\n",
      "le multiplication de 2 * 4 = 8\n",
      "le multiplication de 2 * 5 = 10\n",
      "le multiplication de 2 * 6 = 12\n",
      "le multiplication de 2 * 7 = 14\n",
      "le multiplication de 2 * 8 = 16\n",
      "le multiplication de 2 * 9 = 18\n",
      "le multiplication de 2 * 10 = 20\n"
     ]
    }
   ],
   "source": [
    "for ma_valeur in ma_liste:\n",
    "    ma_nouvelle_valeur = ma_valeur * 2 \n",
    "    print(\"le multiplication de 2 * %d = %d\" %(ma_valeur,ma_nouvelle_valeur))"
   ]
  },
  {
   "cell_type": "code",
   "execution_count": 35,
   "metadata": {},
   "outputs": [
    {
     "name": "stdout",
     "output_type": "stream",
     "text": [
      "Mon compteur = 0\n",
      "Ma valeur = 1\n",
      "Mon compteur = 1\n",
      "Ma valeur = 2\n",
      "Mon compteur = 2\n",
      "Ma valeur = 3\n",
      "Mon compteur = 3\n",
      "Ma valeur = 4\n",
      "Mon compteur = 4\n",
      "Ma valeur = 5\n",
      "Mon compteur = 5\n",
      "Ma valeur = 6\n",
      "Mon compteur = 6\n",
      "Ma valeur = 7\n",
      "Mon compteur = 7\n",
      "Ma valeur = 8\n",
      "Mon compteur = 8\n",
      "Ma valeur = 9\n",
      "Mon compteur = 9\n",
      "Ma valeur = 10\n"
     ]
    }
   ],
   "source": [
    "compteur = 0\n",
    "while compteur < 10:\n",
    "    print(\"Mon compteur = %d\" %(compteur))\n",
    "    print(\"Ma valeur = %d\" %(ma_liste[compteur]))\n",
    "    compteur += 1 "
   ]
  },
  {
   "cell_type": "code",
   "execution_count": 39,
   "metadata": {},
   "outputs": [
    {
     "name": "stdout",
     "output_type": "stream",
     "text": [
      "[1, 3, 5, 7, 9]\n"
     ]
    }
   ],
   "source": [
    "print(ma_liste[::2])"
   ]
  },
  {
   "cell_type": "code",
   "execution_count": 41,
   "metadata": {},
   "outputs": [
    {
     "name": "stdout",
     "output_type": "stream",
     "text": [
      "Mon compteur = 1\n",
      "Ma valeur = 2\n",
      "Mon compteur = 3\n",
      "Ma valeur = 4\n",
      "Mon compteur = 5\n",
      "Ma valeur = 6\n",
      "Mon compteur = 7\n",
      "Ma valeur = 8\n",
      "Mon compteur = 9\n",
      "Ma valeur = 10\n"
     ]
    }
   ],
   "source": [
    "compteur = 0\n",
    "while compteur < 10:\n",
    "    if ma_liste[compteur] % 2 == 0:\n",
    "        print(\"Mon compteur = %d\" %(compteur))\n",
    "        print(\"Ma valeur = %d\" %(ma_liste[compteur]))\n",
    "    compteur += 1 "
   ]
  },
  {
   "cell_type": "markdown",
   "metadata": {},
   "source": [
    "### Manipulation d'une liste contenant les prix de 58 maisons"
   ]
  },
  {
   "cell_type": "code",
   "execution_count": 66,
   "metadata": {},
   "outputs": [],
   "source": [
    "import numpy\n",
    "import random"
   ]
  },
  {
   "cell_type": "code",
   "execution_count": 98,
   "metadata": {},
   "outputs": [
    {
     "name": "stdout",
     "output_type": "stream",
     "text": [
      "nombre total des elements  58\n",
      "nombre de maison superieur à 300000 = 44\n"
     ]
    }
   ],
   "source": [
    "liste_prix_maison = []\n",
    "compteur_prix_sup_300000 = 0\n",
    "compteur = 0\n",
    "while compteur < 58:\n",
    "    val_ = random.randint(125000,700000)\n",
    "    liste_prix_maison.append(val_)\n",
    "    if val_ > 300000:\n",
    "        compteur_prix_sup_300000+=1\n",
    "    compteur += 1\n",
    "    \n",
    "liste_prix_maison\n",
    "print(\"nombre total des elements \",len(liste_prix_maison))\n",
    "print(\"nombre de maison superieur à 300000 = \"+ str(compteur_prix_sup_300000))"
   ]
  },
  {
   "cell_type": "code",
   "execution_count": 99,
   "metadata": {},
   "outputs": [
    {
     "name": "stdout",
     "output_type": "stream",
     "text": [
      "nombre de maison superieur à 300000 = 44\n"
     ]
    }
   ],
   "source": [
    "liste_prix_maison_array = numpy.array(liste_prix_maison)\n",
    "nvelle_list = liste_prix_maison_array[liste_prix_maison_array>300000]\n",
    "list(nvelle_list)\n",
    "print(\"nombre de maison superieur à 300000 = \"+ str(len(nvelle_list)))"
   ]
  },
  {
   "cell_type": "code",
   "execution_count": 100,
   "metadata": {},
   "outputs": [
    {
     "name": "stdout",
     "output_type": "stream",
     "text": [
      "nombre element compris entre 250000 et 400000 = 17\n"
     ]
    }
   ],
   "source": [
    "nombre_element = 0\n",
    "for elem in liste_prix_maison:\n",
    "    if 250000<elem<400000:\n",
    "        nombre_element += 1\n",
    "print(\"nombre element compris entre 250000 et 400000 = \"+ str(nombre_element))\n",
    "    "
   ]
  },
  {
   "cell_type": "code",
   "execution_count": 101,
   "metadata": {},
   "outputs": [
    {
     "name": "stdout",
     "output_type": "stream",
     "text": [
      "nombre element superieur a 600000 = 50\n"
     ]
    }
   ],
   "source": [
    "liste_prix_maison_array = numpy.array(liste_prix_maison)\n",
    "list_inf_600000 = liste_prix_maison_array[liste_prix_maison_array<600000]\n",
    "print(\"nombre element superieur a 600000 = \"+ str(len(list_inf_600000)))\n"
   ]
  },
  {
   "cell_type": "code",
   "execution_count": 104,
   "metadata": {},
   "outputs": [
    {
     "name": "stdout",
     "output_type": "stream",
     "text": [
      "nombre element inferieur a 600000 et superieur a 150000 = 49\n",
      "[156273, 504471, 292366, 327984, 452090, 520875, 544699, 252728, 385890, 159152, 515272, 503724, 464673, 449353, 151605, 322196, 413639, 548832, 289688, 419638, 199313, 200759, 510193, 488649, 524913, 246471, 379295, 510966, 177650, 570028, 355290, 568580, 504599, 552881, 236427, 224913, 266493, 356689, 442316, 355040, 372409, 457723, 306984, 384706, 453446, 329589, 348338, 381105, 595962]\n"
     ]
    }
   ],
   "source": [
    "list_elem = []\n",
    "for elem in list_inf_600000:\n",
    "    if 150000<elem<600000:\n",
    "        list_elem.append(elem)\n",
    "print(\"nombre element inferieur a 600000 et superieur a 150000 = \"+ str(len(list_elem)))\n",
    "print(list_elem)"
   ]
  },
  {
   "cell_type": "code",
   "execution_count": 123,
   "metadata": {},
   "outputs": [],
   "source": [
    "def nombre_de_maison_prix_supp_300000_euro(une_liste):\n",
    "    nombre_element = 0\n",
    "    for elem in une_liste:\n",
    "        if elem>300000:\n",
    "            nombre_element += 1\n",
    "    return (nombre_element, len(une_liste))"
   ]
  },
  {
   "cell_type": "code",
   "execution_count": 124,
   "metadata": {},
   "outputs": [
    {
     "data": {
      "text/plain": [
       "(36, 49)"
      ]
     },
     "execution_count": 124,
     "metadata": {},
     "output_type": "execute_result"
    }
   ],
   "source": [
    "nombre_de_maison_prix_supp_300000_euro(list_elem)"
   ]
  },
  {
   "cell_type": "code",
   "execution_count": 125,
   "metadata": {},
   "outputs": [],
   "source": [
    "nbre_maison, nbre_total = nombre_de_maison_prix_supp_300000_euro(list_elem)"
   ]
  },
  {
   "cell_type": "code",
   "execution_count": 126,
   "metadata": {},
   "outputs": [
    {
     "name": "stdout",
     "output_type": "stream",
     "text": [
      "36\n"
     ]
    }
   ],
   "source": [
    "print(nbre_maison)"
   ]
  },
  {
   "cell_type": "code",
   "execution_count": 127,
   "metadata": {},
   "outputs": [
    {
     "name": "stdout",
     "output_type": "stream",
     "text": [
      "49\n"
     ]
    }
   ],
   "source": [
    "print(nbre_total)"
   ]
  }
 ],
 "metadata": {
  "kernelspec": {
   "display_name": "Python 3",
   "language": "python",
   "name": "python3"
  },
  "language_info": {
   "codemirror_mode": {
    "name": "ipython",
    "version": 3
   },
   "file_extension": ".py",
   "mimetype": "text/x-python",
   "name": "python",
   "nbconvert_exporter": "python",
   "pygments_lexer": "ipython3",
   "version": "3.8.3"
  }
 },
 "nbformat": 4,
 "nbformat_minor": 4
}
