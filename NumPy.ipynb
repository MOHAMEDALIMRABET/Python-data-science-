{
 "cells": [
  {
   "cell_type": "code",
   "execution_count": 1,
   "metadata": {},
   "outputs": [],
   "source": [
    "import numpy as np"
   ]
  },
  {
   "cell_type": "code",
   "execution_count": 20,
   "metadata": {},
   "outputs": [],
   "source": [
    "notre_tableau = np.array([1,2,3,4,5,6,7,8,9,10,11,12,13,14,15,16,17,18,19,20])"
   ]
  },
  {
   "cell_type": "code",
   "execution_count": 18,
   "metadata": {},
   "outputs": [
    {
     "data": {
      "text/plain": [
       "array([10,  2,  3,  4,  5,  6,  7,  8,  9, 10, 11, 12, 13, 14, 15, 16, 17,\n",
       "       18, 19, 20])"
      ]
     },
     "execution_count": 18,
     "metadata": {},
     "output_type": "execute_result"
    }
   ],
   "source": [
    "notre_tableau"
   ]
  },
  {
   "cell_type": "code",
   "execution_count": 4,
   "metadata": {},
   "outputs": [],
   "source": [
    "mon_array_bidimentionnel = np.array([[1,2,3],[4,5,6],[7,8,9]])"
   ]
  },
  {
   "cell_type": "code",
   "execution_count": 5,
   "metadata": {},
   "outputs": [
    {
     "data": {
      "text/plain": [
       "array([[1, 2, 3],\n",
       "       [4, 5, 6],\n",
       "       [7, 8, 9]])"
      ]
     },
     "execution_count": 5,
     "metadata": {},
     "output_type": "execute_result"
    }
   ],
   "source": [
    "mon_array_bidimentionnel"
   ]
  },
  {
   "cell_type": "markdown",
   "metadata": {},
   "source": [
    "### (view) un sous-tableau : modif de sous tableau => modif de tableau d'origine  "
   ]
  },
  {
   "cell_type": "code",
   "execution_count": 6,
   "metadata": {},
   "outputs": [],
   "source": [
    "sous_tableau = notre_tableau[0:5]"
   ]
  },
  {
   "cell_type": "code",
   "execution_count": 7,
   "metadata": {},
   "outputs": [
    {
     "data": {
      "text/plain": [
       "array([1, 2, 3, 4, 5])"
      ]
     },
     "execution_count": 7,
     "metadata": {},
     "output_type": "execute_result"
    }
   ],
   "source": [
    "sous_tableau"
   ]
  },
  {
   "cell_type": "code",
   "execution_count": 8,
   "metadata": {},
   "outputs": [
    {
     "data": {
      "text/plain": [
       "array([10,  2,  3,  4,  5])"
      ]
     },
     "execution_count": 8,
     "metadata": {},
     "output_type": "execute_result"
    }
   ],
   "source": [
    "sous_tableau[0] = 10\n",
    "sous_tableau"
   ]
  },
  {
   "cell_type": "code",
   "execution_count": 21,
   "metadata": {},
   "outputs": [
    {
     "data": {
      "text/plain": [
       "array([ 1,  2,  3,  4,  5,  6,  7,  8,  9, 10, 11, 12, 13, 14, 15, 16, 17,\n",
       "       18, 19, 20])"
      ]
     },
     "execution_count": 21,
     "metadata": {},
     "output_type": "execute_result"
    }
   ],
   "source": [
    "notre_tableau"
   ]
  },
  {
   "cell_type": "code",
   "execution_count": null,
   "metadata": {},
   "outputs": [],
   "source": [
    "#copy et view -> (sous_tableau) d'un tableau"
   ]
  },
  {
   "cell_type": "code",
   "execution_count": 23,
   "metadata": {},
   "outputs": [],
   "source": [
    "sous_tableau1 = notre_tableau[0:5].copy()\n",
    "sous_tableau1[0]=99"
   ]
  },
  {
   "cell_type": "code",
   "execution_count": 24,
   "metadata": {},
   "outputs": [
    {
     "data": {
      "text/plain": [
       "array([99,  2,  3,  4,  5])"
      ]
     },
     "execution_count": 24,
     "metadata": {},
     "output_type": "execute_result"
    }
   ],
   "source": [
    "sous_tableau1"
   ]
  },
  {
   "cell_type": "code",
   "execution_count": 25,
   "metadata": {},
   "outputs": [
    {
     "data": {
      "text/plain": [
       "array([ 1,  2,  3,  4,  5,  6,  7,  8,  9, 10, 11, 12, 13, 14, 15, 16, 17,\n",
       "       18, 19, 20])"
      ]
     },
     "execution_count": 25,
     "metadata": {},
     "output_type": "execute_result"
    }
   ],
   "source": [
    "notre_tableau"
   ]
  },
  {
   "cell_type": "code",
   "execution_count": 26,
   "metadata": {},
   "outputs": [
    {
     "data": {
      "text/plain": [
       "array([[1, 2, 3],\n",
       "       [4, 5, 6],\n",
       "       [7, 8, 9]])"
      ]
     },
     "execution_count": 26,
     "metadata": {},
     "output_type": "execute_result"
    }
   ],
   "source": [
    "mon_array_bidimentionnel"
   ]
  },
  {
   "cell_type": "code",
   "execution_count": 30,
   "metadata": {},
   "outputs": [
    {
     "data": {
      "text/plain": [
       "6"
      ]
     },
     "execution_count": 30,
     "metadata": {},
     "output_type": "execute_result"
    }
   ],
   "source": [
    "mon_array_bidimentionnel[1,2]"
   ]
  },
  {
   "cell_type": "code",
   "execution_count": 31,
   "metadata": {},
   "outputs": [
    {
     "data": {
      "text/plain": [
       "6"
      ]
     },
     "execution_count": 31,
     "metadata": {},
     "output_type": "execute_result"
    }
   ],
   "source": [
    "mon_array_bidimentionnel[1,-1]"
   ]
  },
  {
   "cell_type": "code",
   "execution_count": 32,
   "metadata": {},
   "outputs": [
    {
     "data": {
      "text/plain": [
       "array([1, 4, 7])"
      ]
     },
     "execution_count": 32,
     "metadata": {},
     "output_type": "execute_result"
    }
   ],
   "source": [
    "mon_array_bidimentionnel[:,0]"
   ]
  },
  {
   "cell_type": "code",
   "execution_count": 36,
   "metadata": {},
   "outputs": [
    {
     "data": {
      "text/plain": [
       "[1, 2, 3]"
      ]
     },
     "execution_count": 36,
     "metadata": {},
     "output_type": "execute_result"
    }
   ],
   "source": [
    "liste1 = list(mon_array_bidimentionnel[0,:])\n",
    "liste1"
   ]
  },
  {
   "cell_type": "code",
   "execution_count": 37,
   "metadata": {},
   "outputs": [
    {
     "data": {
      "text/plain": [
       "[2, 3]"
      ]
     },
     "execution_count": 37,
     "metadata": {},
     "output_type": "execute_result"
    }
   ],
   "source": [
    "liste1[1:]"
   ]
  },
  {
   "cell_type": "code",
   "execution_count": 42,
   "metadata": {},
   "outputs": [
    {
     "data": {
      "text/plain": [
       "array([[1, 3],\n",
       "       [4, 6],\n",
       "       [7, 9]])"
      ]
     },
     "execution_count": 42,
     "metadata": {},
     "output_type": "execute_result"
    }
   ],
   "source": [
    "mon_array_bidimentionnel[:,0:3:2]"
   ]
  },
  {
   "cell_type": "code",
   "execution_count": 43,
   "metadata": {},
   "outputs": [
    {
     "data": {
      "text/plain": [
       "array([[2],\n",
       "       [5],\n",
       "       [8]])"
      ]
     },
     "execution_count": 43,
     "metadata": {},
     "output_type": "execute_result"
    }
   ],
   "source": [
    "mon_array_bidimentionnel[:,1:-1]"
   ]
  },
  {
   "cell_type": "code",
   "execution_count": 49,
   "metadata": {},
   "outputs": [
    {
     "data": {
      "text/plain": [
       "array([8])"
      ]
     },
     "execution_count": 49,
     "metadata": {},
     "output_type": "execute_result"
    }
   ],
   "source": [
    "mon_array_bidimentionnel[2,1:-1]"
   ]
  },
  {
   "cell_type": "code",
   "execution_count": 55,
   "metadata": {},
   "outputs": [],
   "source": [
    "#Tableau bidimentionnel de dimension 6 lignes et 4 colonnes (et ses valeurs vont de 0 a 100)"
   ]
  },
  {
   "cell_type": "code",
   "execution_count": 76,
   "metadata": {},
   "outputs": [
    {
     "data": {
      "text/plain": [
       "array([[29, 59, 70, 25],\n",
       "       [87, 49, 20, 59],\n",
       "       [57, 65, 77, 33],\n",
       "       [62, 95, 36, 48],\n",
       "       [10, 84, 56, 65],\n",
       "       [50, 30, 56, 85]])"
      ]
     },
     "execution_count": 76,
     "metadata": {},
     "output_type": "execute_result"
    }
   ],
   "source": [
    "array = np.random.randint(100,size=(6,4))\n",
    "array"
   ]
  },
  {
   "cell_type": "code",
   "execution_count": 77,
   "metadata": {},
   "outputs": [
    {
     "data": {
      "text/plain": [
       "10"
      ]
     },
     "execution_count": 77,
     "metadata": {},
     "output_type": "execute_result"
    }
   ],
   "source": [
    "array.min()"
   ]
  },
  {
   "cell_type": "code",
   "execution_count": 78,
   "metadata": {},
   "outputs": [
    {
     "data": {
      "text/plain": [
       "95"
      ]
     },
     "execution_count": 78,
     "metadata": {},
     "output_type": "execute_result"
    }
   ],
   "source": [
    "array.max()"
   ]
  },
  {
   "cell_type": "code",
   "execution_count": 79,
   "metadata": {},
   "outputs": [
    {
     "data": {
      "text/plain": [
       "54.458333333333336"
      ]
     },
     "execution_count": 79,
     "metadata": {},
     "output_type": "execute_result"
    }
   ],
   "source": [
    "array.mean()"
   ]
  },
  {
   "cell_type": "markdown",
   "metadata": {},
   "source": [
    "### Transformation de liste en array "
   ]
  },
  {
   "cell_type": "code",
   "execution_count": 63,
   "metadata": {},
   "outputs": [
    {
     "data": {
      "text/plain": [
       "array([11, 15, 25])"
      ]
     },
     "execution_count": 63,
     "metadata": {},
     "output_type": "execute_result"
    }
   ],
   "source": [
    "liste2 = [2,8,9,10,11,15,25]\n",
    "liste2_array = np.array(liste2)\n",
    "liste2_array[liste2_array>10]"
   ]
  },
  {
   "cell_type": "markdown",
   "metadata": {},
   "source": [
    "### dimension de mon tableau"
   ]
  },
  {
   "cell_type": "code",
   "execution_count": 80,
   "metadata": {},
   "outputs": [
    {
     "data": {
      "text/plain": [
       "2"
      ]
     },
     "execution_count": 80,
     "metadata": {},
     "output_type": "execute_result"
    }
   ],
   "source": [
    "array.ndim"
   ]
  },
  {
   "cell_type": "code",
   "execution_count": 81,
   "metadata": {},
   "outputs": [
    {
     "data": {
      "text/plain": [
       "(6, 4)"
      ]
     },
     "execution_count": 81,
     "metadata": {},
     "output_type": "execute_result"
    }
   ],
   "source": [
    "array.shape"
   ]
  },
  {
   "cell_type": "code",
   "execution_count": 82,
   "metadata": {},
   "outputs": [
    {
     "data": {
      "text/plain": [
       "dtype('int32')"
      ]
     },
     "execution_count": 82,
     "metadata": {},
     "output_type": "execute_result"
    }
   ],
   "source": [
    "array.dtype"
   ]
  },
  {
   "cell_type": "code",
   "execution_count": 83,
   "metadata": {},
   "outputs": [
    {
     "data": {
      "text/plain": [
       "24"
      ]
     },
     "execution_count": 83,
     "metadata": {},
     "output_type": "execute_result"
    }
   ],
   "source": [
    "array.size"
   ]
  },
  {
   "cell_type": "code",
   "execution_count": 90,
   "metadata": {},
   "outputs": [
    {
     "data": {
      "text/plain": [
       "array([29, 25, 49, 20, 33, 36, 48, 10, 50, 30])"
      ]
     },
     "execution_count": 90,
     "metadata": {},
     "output_type": "execute_result"
    }
   ],
   "source": [
    "array[array<=50]"
   ]
  },
  {
   "cell_type": "code",
   "execution_count": 92,
   "metadata": {},
   "outputs": [
    {
     "data": {
      "text/plain": [
       "array([59, 70, 59, 57, 65, 62, 56, 65, 56])"
      ]
     },
     "execution_count": 92,
     "metadata": {},
     "output_type": "execute_result"
    }
   ],
   "source": [
    "array[(array>50) & (array<=70)]"
   ]
  },
  {
   "cell_type": "code",
   "execution_count": 93,
   "metadata": {},
   "outputs": [
    {
     "data": {
      "text/plain": [
       "array([29, 59, 70, 25, 87, 20, 59, 57, 65, 77, 33, 62, 95, 36, 10, 84, 56,\n",
       "       65, 30, 56, 85])"
      ]
     },
     "execution_count": 93,
     "metadata": {},
     "output_type": "execute_result"
    }
   ],
   "source": [
    "array[(array>50) | (array<=40)]"
   ]
  },
  {
   "cell_type": "code",
   "execution_count": 97,
   "metadata": {},
   "outputs": [],
   "source": [
    "array1 = np.array([[1,2,3],[4,5,6],[7,8,9]])\n",
    "array2 = np.array([[2,5,6],[9,10,11],[5,6,9]])"
   ]
  },
  {
   "cell_type": "code",
   "execution_count": 98,
   "metadata": {},
   "outputs": [
    {
     "data": {
      "text/plain": [
       "array([[ 1,  2,  3],\n",
       "       [ 4,  5,  6],\n",
       "       [ 7,  8,  9],\n",
       "       [ 2,  5,  6],\n",
       "       [ 9, 10, 11],\n",
       "       [ 5,  6,  9]])"
      ]
     },
     "execution_count": 98,
     "metadata": {},
     "output_type": "execute_result"
    }
   ],
   "source": [
    "#concatenation de deux tableau\n",
    "np.concatenate([array1,array2])"
   ]
  },
  {
   "cell_type": "code",
   "execution_count": 104,
   "metadata": {},
   "outputs": [],
   "source": [
    "array3 = np.array([[4,10,13],[8,5,41]])"
   ]
  },
  {
   "cell_type": "markdown",
   "metadata": {},
   "source": [
    "### Contactenation de deux arrays "
   ]
  },
  {
   "cell_type": "code",
   "execution_count": 105,
   "metadata": {},
   "outputs": [
    {
     "data": {
      "text/plain": [
       "array([[ 1,  2,  3],\n",
       "       [ 4,  5,  6],\n",
       "       [ 7,  8,  9],\n",
       "       [ 2,  5,  6],\n",
       "       [ 9, 10, 11],\n",
       "       [ 5,  6,  9],\n",
       "       [ 4, 10, 13],\n",
       "       [ 8,  5, 41]])"
      ]
     },
     "execution_count": 105,
     "metadata": {},
     "output_type": "execute_result"
    }
   ],
   "source": [
    "np.concatenate([array1, array2, array3])"
   ]
  },
  {
   "cell_type": "code",
   "execution_count": 106,
   "metadata": {},
   "outputs": [],
   "source": [
    "array1 = np.array([15,16,47])"
   ]
  },
  {
   "cell_type": "code",
   "execution_count": 107,
   "metadata": {},
   "outputs": [
    {
     "data": {
      "text/plain": [
       "array([15, 16, 47])"
      ]
     },
     "execution_count": 107,
     "metadata": {},
     "output_type": "execute_result"
    }
   ],
   "source": [
    "array1"
   ]
  },
  {
   "cell_type": "code",
   "execution_count": 110,
   "metadata": {},
   "outputs": [
    {
     "data": {
      "text/plain": [
       "array([[1, 2, 3],\n",
       "       [4, 5, 6],\n",
       "       [7, 8, 9]])"
      ]
     },
     "execution_count": 110,
     "metadata": {},
     "output_type": "execute_result"
    }
   ],
   "source": [
    "array2 = np.array([[1,2,3],[4,5,6],[7,8,9]])\n",
    "array2"
   ]
  },
  {
   "cell_type": "markdown",
   "metadata": {},
   "source": [
    "### np.concatenate: prend deux arrays avec les memes dimensions "
   ]
  },
  {
   "cell_type": "code",
   "execution_count": 111,
   "metadata": {},
   "outputs": [
    {
     "ename": "ValueError",
     "evalue": "all the input arrays must have same number of dimensions, but the array at index 0 has 1 dimension(s) and the array at index 1 has 2 dimension(s)",
     "output_type": "error",
     "traceback": [
      "\u001b[1;31m---------------------------------------------------------------------------\u001b[0m",
      "\u001b[1;31mValueError\u001b[0m                                Traceback (most recent call last)",
      "\u001b[1;32m<ipython-input-111-0005866d61da>\u001b[0m in \u001b[0;36m<module>\u001b[1;34m\u001b[0m\n\u001b[1;32m----> 1\u001b[1;33m \u001b[0mnp\u001b[0m\u001b[1;33m.\u001b[0m\u001b[0mconcatenate\u001b[0m\u001b[1;33m(\u001b[0m\u001b[1;33m[\u001b[0m\u001b[0marray1\u001b[0m\u001b[1;33m,\u001b[0m\u001b[0marray2\u001b[0m\u001b[1;33m]\u001b[0m\u001b[1;33m)\u001b[0m\u001b[1;33m\u001b[0m\u001b[1;33m\u001b[0m\u001b[0m\n\u001b[0m",
      "\u001b[1;32m<__array_function__ internals>\u001b[0m in \u001b[0;36mconcatenate\u001b[1;34m(*args, **kwargs)\u001b[0m\n",
      "\u001b[1;31mValueError\u001b[0m: all the input arrays must have same number of dimensions, but the array at index 0 has 1 dimension(s) and the array at index 1 has 2 dimension(s)"
     ]
    }
   ],
   "source": [
    "np.concatenate([array1,array2])"
   ]
  },
  {
   "cell_type": "markdown",
   "metadata": {},
   "source": [
    "### np.vstack: empilation verticale ajout d'une valeur par colonne (donc ajout d'une ligne) "
   ]
  },
  {
   "cell_type": "code",
   "execution_count": 112,
   "metadata": {},
   "outputs": [
    {
     "data": {
      "text/plain": [
       "array([[15, 16, 47],\n",
       "       [ 1,  2,  3],\n",
       "       [ 4,  5,  6],\n",
       "       [ 7,  8,  9]])"
      ]
     },
     "execution_count": 112,
     "metadata": {},
     "output_type": "execute_result"
    }
   ],
   "source": [
    "np.vstack([array1,array2])"
   ]
  },
  {
   "cell_type": "markdown",
   "metadata": {},
   "source": [
    "### np.hstack : Empilation horizontale  Ajout d'une colonne (ajout d'une valeur par ligne)"
   ]
  },
  {
   "cell_type": "code",
   "execution_count": 118,
   "metadata": {},
   "outputs": [
    {
     "data": {
      "text/plain": [
       "array([[15],\n",
       "       [16],\n",
       "       [47]])"
      ]
     },
     "execution_count": 118,
     "metadata": {},
     "output_type": "execute_result"
    }
   ],
   "source": [
    "#tableau bidimentionnel contennant une liste de liste\n",
    "array1 = np.array([[15],[16],[47]])\n",
    "array1"
   ]
  },
  {
   "cell_type": "code",
   "execution_count": 117,
   "metadata": {},
   "outputs": [
    {
     "data": {
      "text/plain": [
       "array([[15,  1,  2,  3],\n",
       "       [16,  4,  5,  6],\n",
       "       [47,  7,  8,  9]])"
      ]
     },
     "execution_count": 117,
     "metadata": {},
     "output_type": "execute_result"
    }
   ],
   "source": [
    "np.hstack([array1,array2])"
   ]
  },
  {
   "cell_type": "markdown",
   "metadata": {},
   "source": [
    "### split de tableau unidimentionnel 'vecteur'  (casser le tableau en morceau +ieurs tableau) "
   ]
  },
  {
   "cell_type": "code",
   "execution_count": 119,
   "metadata": {},
   "outputs": [],
   "source": [
    "array = np.array([15,16,17,12,49,52,12,14,36])"
   ]
  },
  {
   "cell_type": "code",
   "execution_count": 121,
   "metadata": {},
   "outputs": [
    {
     "data": {
      "text/plain": [
       "9"
      ]
     },
     "execution_count": 121,
     "metadata": {},
     "output_type": "execute_result"
    }
   ],
   "source": [
    "len(array)"
   ]
  },
  {
   "cell_type": "markdown",
   "metadata": {},
   "source": [
    "###  np.split(array,[2,6])\n",
    "###### point de cassur index2 et index6 => [15,16,17,12,49,52,12,14,36] sample : index 2 = 17 donc a partir de 17  on casse\n",
    "deux point de cassur ça veut dire 3 tableaux"
   ]
  },
  {
   "cell_type": "code",
   "execution_count": 122,
   "metadata": {},
   "outputs": [
    {
     "data": {
      "text/plain": [
       "[array([15, 16]), array([17, 12, 49, 52]), array([12, 14, 36])]"
      ]
     },
     "execution_count": 122,
     "metadata": {},
     "output_type": "execute_result"
    }
   ],
   "source": [
    "np.split(array,[2,6])"
   ]
  },
  {
   "cell_type": "code",
   "execution_count": 123,
   "metadata": {},
   "outputs": [],
   "source": [
    "array1, array2, array3 = np.split(array,[2,6])"
   ]
  },
  {
   "cell_type": "code",
   "execution_count": 126,
   "metadata": {
    "scrolled": true
   },
   "outputs": [
    {
     "name": "stdout",
     "output_type": "stream",
     "text": [
      "[15 16] [17 12 49 52] [12 14 36]\n"
     ]
    }
   ],
   "source": [
    "print(array1,array2,array3)"
   ]
  },
  {
   "cell_type": "code",
   "execution_count": 323,
   "metadata": {},
   "outputs": [],
   "source": [
    "#vsplit : np(split par ligne) hsplit(np split par colonne)"
   ]
  },
  {
   "cell_type": "markdown",
   "metadata": {},
   "source": [
    "### split de tableau mutidimentionnel  (casser le tableau en morceau +ieurs tableau soit vertical soit horizontale)  "
   ]
  },
  {
   "cell_type": "code",
   "execution_count": 317,
   "metadata": {},
   "outputs": [],
   "source": [
    "array2 = np.array([[2,5,6],[9,10,11],[5,6,9]])"
   ]
  },
  {
   "cell_type": "code",
   "execution_count": 318,
   "metadata": {},
   "outputs": [
    {
     "name": "stdout",
     "output_type": "stream",
     "text": [
      "[[ 2  5  6]\n",
      " [ 9 10 11]\n",
      " [ 5  6  9]]\n"
     ]
    }
   ],
   "source": [
    "print(array2)"
   ]
  },
  {
   "cell_type": "code",
   "execution_count": 319,
   "metadata": {},
   "outputs": [],
   "source": [
    "array1,array1_10 = np.vsplit(array2,[2])"
   ]
  },
  {
   "cell_type": "code",
   "execution_count": 320,
   "metadata": {},
   "outputs": [
    {
     "name": "stdout",
     "output_type": "stream",
     "text": [
      "[[ 2  5  6]\n",
      " [ 9 10 11]]\n",
      "\n",
      "[[5 6 9]]\n"
     ]
    }
   ],
   "source": [
    "print(array1)\n",
    "print()\n",
    "print(array1_10)"
   ]
  },
  {
   "cell_type": "code",
   "execution_count": 324,
   "metadata": {},
   "outputs": [],
   "source": [
    "array2_1,array2_10 = np.hsplit(array2,[2])"
   ]
  },
  {
   "cell_type": "code",
   "execution_count": 325,
   "metadata": {},
   "outputs": [
    {
     "name": "stdout",
     "output_type": "stream",
     "text": [
      "[[ 2  5]\n",
      " [ 9 10]\n",
      " [ 5  6]]\n",
      "\n",
      "[[ 6]\n",
      " [11]\n",
      " [ 9]]\n"
     ]
    }
   ],
   "source": [
    "print(array2_1)\n",
    "print()\n",
    "print(array2_10)"
   ]
  },
  {
   "cell_type": "markdown",
   "metadata": {},
   "source": [
    "### calcul sur les tableaux"
   ]
  },
  {
   "cell_type": "code",
   "execution_count": 150,
   "metadata": {},
   "outputs": [],
   "source": [
    "array_calcul = np.random.randint(350,size=(10,9))"
   ]
  },
  {
   "cell_type": "code",
   "execution_count": 151,
   "metadata": {},
   "outputs": [
    {
     "data": {
      "text/plain": [
       "array([[104, 295, 250,  73, 182, 335,  27,   7, 213],\n",
       "       [ 79, 245,  15, 343,  64,  80, 266, 105, 149],\n",
       "       [189,  40, 162,  21, 236,  42, 184,  22,  87],\n",
       "       [ 72, 268,   3, 107, 308, 311,   6, 188,  44],\n",
       "       [266, 314,  21,  81, 299, 286, 186,   5, 124],\n",
       "       [106,  94, 110, 178,  11,  70,  55, 152, 226],\n",
       "       [290, 233,  63,  56,  39, 320, 134, 303, 116],\n",
       "       [ 80, 321, 121,  66, 248, 198,  60, 144, 247],\n",
       "       [ 87,  66, 147, 251, 279,  67, 186,  65,   2],\n",
       "       [  1,  47,  65, 311,  52,  17, 337, 321,  75]])"
      ]
     },
     "execution_count": 151,
     "metadata": {},
     "output_type": "execute_result"
    }
   ],
   "source": [
    "array_calcul"
   ]
  },
  {
   "cell_type": "code",
   "execution_count": 153,
   "metadata": {},
   "outputs": [
    {
     "data": {
      "text/plain": [
       "array([[106, 297, 252,  75, 184, 337,  29,   9, 215],\n",
       "       [ 81, 247,  17, 345,  66,  82, 268, 107, 151],\n",
       "       [191,  42, 164,  23, 238,  44, 186,  24,  89],\n",
       "       [ 74, 270,   5, 109, 310, 313,   8, 190,  46],\n",
       "       [268, 316,  23,  83, 301, 288, 188,   7, 126],\n",
       "       [108,  96, 112, 180,  13,  72,  57, 154, 228],\n",
       "       [292, 235,  65,  58,  41, 322, 136, 305, 118],\n",
       "       [ 82, 323, 123,  68, 250, 200,  62, 146, 249],\n",
       "       [ 89,  68, 149, 253, 281,  69, 188,  67,   4],\n",
       "       [  3,  49,  67, 313,  54,  19, 339, 323,  77]])"
      ]
     },
     "execution_count": 153,
     "metadata": {},
     "output_type": "execute_result"
    }
   ],
   "source": [
    "array_calcul+2"
   ]
  },
  {
   "cell_type": "code",
   "execution_count": 154,
   "metadata": {},
   "outputs": [
    {
     "data": {
      "text/plain": [
       "array([[102, 293, 248,  71, 180, 333,  25,   5, 211],\n",
       "       [ 77, 243,  13, 341,  62,  78, 264, 103, 147],\n",
       "       [187,  38, 160,  19, 234,  40, 182,  20,  85],\n",
       "       [ 70, 266,   1, 105, 306, 309,   4, 186,  42],\n",
       "       [264, 312,  19,  79, 297, 284, 184,   3, 122],\n",
       "       [104,  92, 108, 176,   9,  68,  53, 150, 224],\n",
       "       [288, 231,  61,  54,  37, 318, 132, 301, 114],\n",
       "       [ 78, 319, 119,  64, 246, 196,  58, 142, 245],\n",
       "       [ 85,  64, 145, 249, 277,  65, 184,  63,   0],\n",
       "       [ -1,  45,  63, 309,  50,  15, 335, 319,  73]])"
      ]
     },
     "execution_count": 154,
     "metadata": {},
     "output_type": "execute_result"
    }
   ],
   "source": [
    "array_calcul-2"
   ]
  },
  {
   "cell_type": "code",
   "execution_count": 158,
   "metadata": {},
   "outputs": [
    {
     "data": {
      "text/plain": [
       "array([1040,  790, 1890,  720, 2660, 1060, 2900,  800,  870,   10])"
      ]
     },
     "execution_count": 158,
     "metadata": {},
     "output_type": "execute_result"
    }
   ],
   "source": [
    "array_calcul[:,0]*10"
   ]
  },
  {
   "cell_type": "code",
   "execution_count": 160,
   "metadata": {},
   "outputs": [
    {
     "data": {
      "text/plain": [
       "array([[106, 297, 252,  75, 184, 337,  29,   9, 215],\n",
       "       [ 81, 247,  17, 345,  66,  82, 268, 107, 151],\n",
       "       [191,  42, 164,  23, 238,  44, 186,  24,  89],\n",
       "       [ 74, 270,   5, 109, 310, 313,   8, 190,  46],\n",
       "       [268, 316,  23,  83, 301, 288, 188,   7, 126],\n",
       "       [108,  96, 112, 180,  13,  72,  57, 154, 228],\n",
       "       [292, 235,  65,  58,  41, 322, 136, 305, 118],\n",
       "       [ 82, 323, 123,  68, 250, 200,  62, 146, 249],\n",
       "       [ 89,  68, 149, 253, 281,  69, 188,  67,   4],\n",
       "       [  3,  49,  67, 313,  54,  19, 339, 323,  77]])"
      ]
     },
     "execution_count": 160,
     "metadata": {},
     "output_type": "execute_result"
    }
   ],
   "source": [
    "np.add(array_calcul,2)"
   ]
  },
  {
   "cell_type": "code",
   "execution_count": 161,
   "metadata": {},
   "outputs": [
    {
     "data": {
      "text/plain": [
       "array([[ 97, 288, 243,  66, 175, 328,  20,   0, 206],\n",
       "       [ 72, 238,   8, 336,  57,  73, 259,  98, 142],\n",
       "       [182,  33, 155,  14, 229,  35, 177,  15,  80],\n",
       "       [ 65, 261,  -4, 100, 301, 304,  -1, 181,  37],\n",
       "       [259, 307,  14,  74, 292, 279, 179,  -2, 117],\n",
       "       [ 99,  87, 103, 171,   4,  63,  48, 145, 219],\n",
       "       [283, 226,  56,  49,  32, 313, 127, 296, 109],\n",
       "       [ 73, 314, 114,  59, 241, 191,  53, 137, 240],\n",
       "       [ 80,  59, 140, 244, 272,  60, 179,  58,  -5],\n",
       "       [ -6,  40,  58, 304,  45,  10, 330, 314,  68]])"
      ]
     },
     "execution_count": 161,
     "metadata": {},
     "output_type": "execute_result"
    }
   ],
   "source": [
    "np.subtract(array_calcul,7)"
   ]
  },
  {
   "cell_type": "code",
   "execution_count": 162,
   "metadata": {},
   "outputs": [
    {
     "data": {
      "text/plain": [
       "array([[208, 590, 500, 146, 364, 670,  54,  14, 426],\n",
       "       [158, 490,  30, 686, 128, 160, 532, 210, 298],\n",
       "       [378,  80, 324,  42, 472,  84, 368,  44, 174],\n",
       "       [144, 536,   6, 214, 616, 622,  12, 376,  88],\n",
       "       [532, 628,  42, 162, 598, 572, 372,  10, 248],\n",
       "       [212, 188, 220, 356,  22, 140, 110, 304, 452],\n",
       "       [580, 466, 126, 112,  78, 640, 268, 606, 232],\n",
       "       [160, 642, 242, 132, 496, 396, 120, 288, 494],\n",
       "       [174, 132, 294, 502, 558, 134, 372, 130,   4],\n",
       "       [  2,  94, 130, 622, 104,  34, 674, 642, 150]])"
      ]
     },
     "execution_count": 162,
     "metadata": {},
     "output_type": "execute_result"
    }
   ],
   "source": [
    "np.multiply(array_calcul,2)"
   ]
  },
  {
   "cell_type": "code",
   "execution_count": 165,
   "metadata": {},
   "outputs": [
    {
     "data": {
      "text/plain": [
       "array([[2.08, 5.9 , 5.  , 1.46, 3.64, 6.7 , 0.54, 0.14, 4.26],\n",
       "       [1.58, 4.9 , 0.3 , 6.86, 1.28, 1.6 , 5.32, 2.1 , 2.98],\n",
       "       [3.78, 0.8 , 3.24, 0.42, 4.72, 0.84, 3.68, 0.44, 1.74],\n",
       "       [1.44, 5.36, 0.06, 2.14, 6.16, 6.22, 0.12, 3.76, 0.88],\n",
       "       [5.32, 6.28, 0.42, 1.62, 5.98, 5.72, 3.72, 0.1 , 2.48],\n",
       "       [2.12, 1.88, 2.2 , 3.56, 0.22, 1.4 , 1.1 , 3.04, 4.52],\n",
       "       [5.8 , 4.66, 1.26, 1.12, 0.78, 6.4 , 2.68, 6.06, 2.32],\n",
       "       [1.6 , 6.42, 2.42, 1.32, 4.96, 3.96, 1.2 , 2.88, 4.94],\n",
       "       [1.74, 1.32, 2.94, 5.02, 5.58, 1.34, 3.72, 1.3 , 0.04],\n",
       "       [0.02, 0.94, 1.3 , 6.22, 1.04, 0.34, 6.74, 6.42, 1.5 ]])"
      ]
     },
     "execution_count": 165,
     "metadata": {},
     "output_type": "execute_result"
    }
   ],
   "source": [
    "np.divide(array_calcul, 50)"
   ]
  },
  {
   "cell_type": "code",
   "execution_count": 167,
   "metadata": {},
   "outputs": [
    {
     "name": "stdout",
     "output_type": "stream",
     "text": [
      "la moyenne de tableau 145.79\n"
     ]
    }
   ],
   "source": [
    "np.mean(array_calcul)\n",
    "print(\"la moyenne de tableau %.2f\" %(np.mean(array_calcul)))"
   ]
  },
  {
   "cell_type": "code",
   "execution_count": 168,
   "metadata": {},
   "outputs": [
    {
     "data": {
      "text/plain": [
       "145.7888888888889"
      ]
     },
     "execution_count": 168,
     "metadata": {},
     "output_type": "execute_result"
    }
   ],
   "source": [
    "array_calcul.mean()"
   ]
  },
  {
   "cell_type": "code",
   "execution_count": 169,
   "metadata": {},
   "outputs": [
    {
     "data": {
      "text/plain": [
       "1"
      ]
     },
     "execution_count": 169,
     "metadata": {},
     "output_type": "execute_result"
    }
   ],
   "source": [
    "array_calcul.min()"
   ]
  },
  {
   "cell_type": "code",
   "execution_count": 170,
   "metadata": {},
   "outputs": [
    {
     "data": {
      "text/plain": [
       "343"
      ]
     },
     "execution_count": 170,
     "metadata": {},
     "output_type": "execute_result"
    }
   ],
   "source": [
    "array_calcul.max()"
   ]
  },
  {
   "cell_type": "markdown",
   "metadata": {},
   "source": [
    "### moyenne par colonne"
   ]
  },
  {
   "cell_type": "code",
   "execution_count": 172,
   "metadata": {},
   "outputs": [
    {
     "data": {
      "text/plain": [
       "array([127.4, 192.3,  95.7, 148.7, 171.8, 172.6, 144.1, 131.2, 128.3])"
      ]
     },
     "execution_count": 172,
     "metadata": {},
     "output_type": "execute_result"
    }
   ],
   "source": [
    "np.mean(array_calcul,axis=0)"
   ]
  },
  {
   "cell_type": "markdown",
   "metadata": {},
   "source": [
    "### moyenne par ligne "
   ]
  },
  {
   "cell_type": "code",
   "execution_count": 173,
   "metadata": {},
   "outputs": [
    {
     "data": {
      "text/plain": [
       "array([165.11111111, 149.55555556, 109.22222222, 145.22222222,\n",
       "       175.77777778, 111.33333333, 172.66666667, 165.        ,\n",
       "       127.77777778, 136.22222222])"
      ]
     },
     "execution_count": 173,
     "metadata": {},
     "output_type": "execute_result"
    }
   ],
   "source": [
    "np.mean(array_calcul,axis=1)"
   ]
  },
  {
   "cell_type": "markdown",
   "metadata": {},
   "source": [
    "## importer un fichier csv avec pandas"
   ]
  },
  {
   "cell_type": "code",
   "execution_count": 338,
   "metadata": {},
   "outputs": [],
   "source": [
    "import pandas as pd\n",
    "data = pd.read_csv('Houses.csv')"
   ]
  },
  {
   "cell_type": "markdown",
   "metadata": {},
   "source": [
    "## importer un fichier csv avec numpy"
   ]
  },
  {
   "cell_type": "code",
   "execution_count": 339,
   "metadata": {},
   "outputs": [],
   "source": [
    "data_houses = np.genfromtxt('Houses.csv', delimiter=\",\", dtype = int)"
   ]
  },
  {
   "cell_type": "code",
   "execution_count": 340,
   "metadata": {},
   "outputs": [
    {
     "data": {
      "text/plain": [
       "array([[212000,   4148,  25264],\n",
       "       [230000,   2501,  11891],\n",
       "       [339000,   4374,  25351],\n",
       "       [289000,   2398,  22215],\n",
       "       [160000,   2536,   9234],\n",
       "       [ 85000,   2368,  13329],\n",
       "       [ 85000,   1264,   8407],\n",
       "       [145000,   1572,  12588],\n",
       "       [164000,   2375,  16204],\n",
       "       [123500,   1161,   9626],\n",
       "       [180000,   1542,   8755],\n",
       "       [159500,   1464,  14636],\n",
       "       [156000,   2240,  21780],\n",
       "       [146500,   1269,  11250],\n",
       "       [101500,    924,   7361],\n",
       "       [109800,    768,  10497],\n",
       "       [182000,   1320,  15768],\n",
       "       [110000,   1845,  12153],\n",
       "       [125000,   1274,  13634],\n",
       "       [ 80000,   1905,  10890]])"
      ]
     },
     "execution_count": 340,
     "metadata": {},
     "output_type": "execute_result"
    }
   ],
   "source": [
    "data_houses"
   ]
  },
  {
   "cell_type": "code",
   "execution_count": 186,
   "metadata": {},
   "outputs": [
    {
     "data": {
      "text/plain": [
       "(20, 3)"
      ]
     },
     "execution_count": 186,
     "metadata": {},
     "output_type": "execute_result"
    }
   ],
   "source": [
    "data_houses.ndim\n",
    "data_houses.shape"
   ]
  },
  {
   "cell_type": "code",
   "execution_count": 275,
   "metadata": {},
   "outputs": [],
   "source": [
    "data_houses[:,0] = data_houses[:,0]*(0.86)"
   ]
  },
  {
   "cell_type": "code",
   "execution_count": 276,
   "metadata": {},
   "outputs": [],
   "source": [
    "data_houses[:,1:] = data_houses[:,1:]*(0.09)"
   ]
  },
  {
   "cell_type": "code",
   "execution_count": 277,
   "metadata": {},
   "outputs": [
    {
     "data": {
      "text/plain": [
       "array([[182320,    373,   2273],\n",
       "       [197800,    225,   1070],\n",
       "       [291540,    393,   2281],\n",
       "       [248540,    215,   1999],\n",
       "       [137600,    228,    831],\n",
       "       [ 73100,    213,   1199],\n",
       "       [ 73100,    113,    756],\n",
       "       [124700,    141,   1132],\n",
       "       [141040,    213,   1458],\n",
       "       [106210,    104,    866],\n",
       "       [154800,    138,    787],\n",
       "       [137170,    131,   1317],\n",
       "       [134160,    201,   1960],\n",
       "       [125990,    114,   1012],\n",
       "       [ 87290,     83,    662],\n",
       "       [ 94428,     69,    944],\n",
       "       [156520,    118,   1419],\n",
       "       [ 94600,    166,   1093],\n",
       "       [107500,    114,   1227],\n",
       "       [ 68800,    171,    980]])"
      ]
     },
     "execution_count": 277,
     "metadata": {},
     "output_type": "execute_result"
    }
   ],
   "source": [
    "data_houses"
   ]
  },
  {
   "cell_type": "code",
   "execution_count": 297,
   "metadata": {
    "scrolled": true
   },
   "outputs": [
    {
     "data": {
      "text/plain": [
       "13"
      ]
     },
     "execution_count": 297,
     "metadata": {},
     "output_type": "execute_result"
    }
   ],
   "source": [
    "len(data_houses[data_houses[:,2]>1000])"
   ]
  },
  {
   "cell_type": "code",
   "execution_count": 298,
   "metadata": {},
   "outputs": [
    {
     "name": "stdout",
     "output_type": "stream",
     "text": [
      "nombre de maison qui possede un terrain >1000 m2 =>  13  maisons\n"
     ]
    }
   ],
   "source": [
    "print(\"nombre de maison qui possede un terrain >1000 m2 => \", len(data_houses[data_houses[:,2]>1000]), \" maisons\")"
   ]
  },
  {
   "cell_type": "code",
   "execution_count": 282,
   "metadata": {},
   "outputs": [
    {
     "name": "stdout",
     "output_type": "stream",
     "text": [
      "La somme des prix de vente 2737208\n"
     ]
    }
   ],
   "source": [
    "print(\"La somme des prix de vente\", np.sum(data_houses[:,0:1]))"
   ]
  },
  {
   "cell_type": "code",
   "execution_count": 231,
   "metadata": {},
   "outputs": [
    {
     "data": {
      "text/plain": [
       "array([[212000,   4148,  25264],\n",
       "       [230000,   2501,  11891],\n",
       "       [339000,   4374,  25351],\n",
       "       [289000,   2398,  22215],\n",
       "       [160000,   2536,   9234],\n",
       "       [ 85000,   2368,  13329],\n",
       "       [ 85000,   1264,   8407],\n",
       "       [145000,   1572,  12588],\n",
       "       [164000,   2375,  16204],\n",
       "       [123500,   1161,   9626],\n",
       "       [180000,   1542,   8755],\n",
       "       [159500,   1464,  14636],\n",
       "       [156000,   2240,  21780],\n",
       "       [146500,   1269,  11250],\n",
       "       [101500,    924,   7361],\n",
       "       [109800,    768,  10497],\n",
       "       [182000,   1320,  15768],\n",
       "       [110000,   1845,  12153],\n",
       "       [125000,   1274,  13634],\n",
       "       [ 80000,   1905,  10890]])"
      ]
     },
     "execution_count": 231,
     "metadata": {},
     "output_type": "execute_result"
    }
   ],
   "source": [
    "data_houses"
   ]
  },
  {
   "cell_type": "code",
   "execution_count": 301,
   "metadata": {},
   "outputs": [
    {
     "data": {
      "text/plain": [
       "291540"
      ]
     },
     "execution_count": 301,
     "metadata": {},
     "output_type": "execute_result"
    }
   ],
   "source": [
    "max_prix = np.max(data_houses[:,0])\n",
    "max_prix"
   ]
  },
  {
   "cell_type": "code",
   "execution_count": 308,
   "metadata": {},
   "outputs": [
    {
     "data": {
      "text/plain": [
       "array([[291540,    393,   2281]])"
      ]
     },
     "execution_count": 308,
     "metadata": {},
     "output_type": "execute_result"
    }
   ],
   "source": [
    "data_houses[data_houses[:,0] == max_prix]"
   ]
  },
  {
   "cell_type": "code",
   "execution_count": 240,
   "metadata": {},
   "outputs": [
    {
     "data": {
      "text/plain": [
       "array([[212000,   4148,  25264],\n",
       "       [230000,   2501,  11891],\n",
       "       [339000,   4374,  25351],\n",
       "       [289000,   2398,  22215],\n",
       "       [160000,   2536,   9234],\n",
       "       [ 85000,   2368,  13329],\n",
       "       [ 85000,   1264,   8407],\n",
       "       [145000,   1572,  12588],\n",
       "       [164000,   2375,  16204],\n",
       "       [123500,   1161,   9626],\n",
       "       [180000,   1542,   8755],\n",
       "       [159500,   1464,  14636],\n",
       "       [156000,   2240,  21780],\n",
       "       [146500,   1269,  11250],\n",
       "       [101500,    924,   7361],\n",
       "       [109800,    768,  10497],\n",
       "       [182000,   1320,  15768],\n",
       "       [110000,   1845,  12153],\n",
       "       [125000,   1274,  13634],\n",
       "       [ 80000,   1905,  10890]])"
      ]
     },
     "execution_count": 240,
     "metadata": {},
     "output_type": "execute_result"
    }
   ],
   "source": [
    "data_houses"
   ]
  },
  {
   "cell_type": "code",
   "execution_count": 334,
   "metadata": {},
   "outputs": [],
   "source": [
    "prix, taille_maison, taille_terrain = np.hsplit(data_houses,3)"
   ]
  },
  {
   "cell_type": "code",
   "execution_count": 335,
   "metadata": {},
   "outputs": [
    {
     "name": "stdout",
     "output_type": "stream",
     "text": [
      "[[182320]\n",
      " [197800]\n",
      " [291540]\n",
      " [248540]\n",
      " [137600]\n",
      " [ 73100]\n",
      " [ 73100]\n",
      " [124700]\n",
      " [141040]\n",
      " [106210]\n",
      " [154800]\n",
      " [137170]\n",
      " [134160]\n",
      " [125990]\n",
      " [ 87290]\n",
      " [ 94428]\n",
      " [156520]\n",
      " [ 94600]\n",
      " [107500]\n",
      " [ 68800]] [[373]\n",
      " [225]\n",
      " [393]\n",
      " [215]\n",
      " [228]\n",
      " [213]\n",
      " [113]\n",
      " [141]\n",
      " [213]\n",
      " [104]\n",
      " [138]\n",
      " [131]\n",
      " [201]\n",
      " [114]\n",
      " [ 83]\n",
      " [ 69]\n",
      " [118]\n",
      " [166]\n",
      " [114]\n",
      " [171]] [[373]\n",
      " [225]\n",
      " [393]\n",
      " [215]\n",
      " [228]\n",
      " [213]\n",
      " [113]\n",
      " [141]\n",
      " [213]\n",
      " [104]\n",
      " [138]\n",
      " [131]\n",
      " [201]\n",
      " [114]\n",
      " [ 83]\n",
      " [ 69]\n",
      " [118]\n",
      " [166]\n",
      " [114]\n",
      " [171]]\n"
     ]
    }
   ],
   "source": [
    "print(prix,taille_maison,taille_maison)"
   ]
  },
  {
   "cell_type": "code",
   "execution_count": 337,
   "metadata": {},
   "outputs": [
    {
     "data": {
      "text/plain": [
       "array([[182320,    373,   2273],\n",
       "       [197800,    225,   1070],\n",
       "       [291540,    393,   2281],\n",
       "       [248540,    215,   1999],\n",
       "       [137600,    228,    831],\n",
       "       [ 73100,    213,   1199],\n",
       "       [ 73100,    113,    756],\n",
       "       [124700,    141,   1132],\n",
       "       [141040,    213,   1458],\n",
       "       [106210,    104,    866],\n",
       "       [154800,    138,    787],\n",
       "       [137170,    131,   1317],\n",
       "       [134160,    201,   1960],\n",
       "       [125990,    114,   1012],\n",
       "       [ 87290,     83,    662],\n",
       "       [ 94428,     69,    944],\n",
       "       [156520,    118,   1419],\n",
       "       [ 94600,    166,   1093],\n",
       "       [107500,    114,   1227],\n",
       "       [ 68800,    171,    980]])"
      ]
     },
     "execution_count": 337,
     "metadata": {},
     "output_type": "execute_result"
    }
   ],
   "source": [
    "house_original = np.concatenate([prix,taille_maison,taille_terrain], axis=1)\n",
    "house_original"
   ]
  },
  {
   "cell_type": "code",
   "execution_count": 331,
   "metadata": {},
   "outputs": [
    {
     "data": {
      "text/plain": [
       "array([[182320,    373,   2273],\n",
       "       [197800,    225,   1070],\n",
       "       [291540,    393,   2281],\n",
       "       [248540,    215,   1999],\n",
       "       [137600,    228,    831],\n",
       "       [ 73100,    213,   1199],\n",
       "       [ 73100,    113,    756],\n",
       "       [124700,    141,   1132],\n",
       "       [141040,    213,   1458],\n",
       "       [106210,    104,    866],\n",
       "       [154800,    138,    787],\n",
       "       [137170,    131,   1317],\n",
       "       [134160,    201,   1960],\n",
       "       [125990,    114,   1012],\n",
       "       [ 87290,     83,    662],\n",
       "       [ 94428,     69,    944],\n",
       "       [156520,    118,   1419],\n",
       "       [ 94600,    166,   1093],\n",
       "       [107500,    114,   1227],\n",
       "       [ 68800,    171,    980]])"
      ]
     },
     "execution_count": 331,
     "metadata": {},
     "output_type": "execute_result"
    }
   ],
   "source": [
    "np.hstack([prix,taille_maison,taille_terrain])"
   ]
  },
  {
   "cell_type": "code",
   "execution_count": null,
   "metadata": {},
   "outputs": [],
   "source": []
  }
 ],
 "metadata": {
  "kernelspec": {
   "display_name": "Python 3",
   "language": "python",
   "name": "python3"
  },
  "language_info": {
   "codemirror_mode": {
    "name": "ipython",
    "version": 3
   },
   "file_extension": ".py",
   "mimetype": "text/x-python",
   "name": "python",
   "nbconvert_exporter": "python",
   "pygments_lexer": "ipython3",
   "version": "3.8.3"
  }
 },
 "nbformat": 4,
 "nbformat_minor": 4
}
