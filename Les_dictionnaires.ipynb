{
 "cells": [
  {
   "cell_type": "code",
   "execution_count": 1,
   "metadata": {},
   "outputs": [],
   "source": [
    "mon_dictionnaire = {\n",
    "    \"Thomas\":12,\n",
    "    \"Julien\":15,\n",
    "    \"Samuel\":17,\n",
    "    \"Mohamed\":19.5,\n",
    "    \"Julien\":\"Absent\"\n",
    "}"
   ]
  },
  {
   "cell_type": "code",
   "execution_count": 14,
   "metadata": {},
   "outputs": [
    {
     "data": {
      "text/plain": [
       "{'Thomas': 12, 'Julien': 'Absent', 'Samuel': 17, 'Mohamed': 19.5}"
      ]
     },
     "execution_count": 14,
     "metadata": {},
     "output_type": "execute_result"
    }
   ],
   "source": [
    "mon_dictionnaire"
   ]
  },
  {
   "cell_type": "code",
   "execution_count": 17,
   "metadata": {},
   "outputs": [
    {
     "name": "stdout",
     "output_type": "stream",
     "text": [
      "('Thomas', 12)\n",
      "('Julien', 'Absent')\n",
      "('Samuel', 17)\n",
      "('Mohamed', 19.5)\n"
     ]
    }
   ],
   "source": [
    "for i in mon_dictionnaire.items():\n",
    "    print(i)"
   ]
  },
  {
   "cell_type": "code",
   "execution_count": 18,
   "metadata": {},
   "outputs": [
    {
     "name": "stdout",
     "output_type": "stream",
     "text": [
      "Thomas -> 12\n",
      "Julien -> Absent\n",
      "Samuel -> 17\n",
      "Mohamed -> 19.5\n"
     ]
    }
   ],
   "source": [
    "for cle, valeur in mon_dictionnaire.items():\n",
    "    print(cle,\"->\", valeur)"
   ]
  },
  {
   "cell_type": "code",
   "execution_count": 19,
   "metadata": {},
   "outputs": [
    {
     "data": {
      "text/plain": [
       "12"
      ]
     },
     "execution_count": 19,
     "metadata": {},
     "output_type": "execute_result"
    }
   ],
   "source": [
    "mon_dictionnaire[\"Thomas\"]"
   ]
  },
  {
   "cell_type": "code",
   "execution_count": 20,
   "metadata": {},
   "outputs": [],
   "source": [
    "mon_dictionnaire[\"Julie\"]=9"
   ]
  },
  {
   "cell_type": "code",
   "execution_count": 21,
   "metadata": {},
   "outputs": [
    {
     "data": {
      "text/plain": [
       "{'Thomas': 12, 'Julien': 'Absent', 'Samuel': 17, 'Mohamed': 19.5, 'Julie': 9}"
      ]
     },
     "execution_count": 21,
     "metadata": {},
     "output_type": "execute_result"
    }
   ],
   "source": [
    "mon_dictionnaire"
   ]
  },
  {
   "cell_type": "code",
   "execution_count": 24,
   "metadata": {},
   "outputs": [],
   "source": [
    "mon_dictionnaire[\"Julien\"] = 13"
   ]
  },
  {
   "cell_type": "code",
   "execution_count": 25,
   "metadata": {},
   "outputs": [
    {
     "data": {
      "text/plain": [
       "{'Thomas': 12, 'Julien': 13, 'Samuel': 17, 'Mohamed': 19.5, 'Julie': 9}"
      ]
     },
     "execution_count": 25,
     "metadata": {},
     "output_type": "execute_result"
    }
   ],
   "source": [
    "mon_dictionnaire"
   ]
  },
  {
   "cell_type": "code",
   "execution_count": 26,
   "metadata": {},
   "outputs": [],
   "source": [
    "note_Julie = {\"Julie\":16}\n",
    "mon_dictionnaire.update(note_Julie)"
   ]
  },
  {
   "cell_type": "code",
   "execution_count": 27,
   "metadata": {},
   "outputs": [
    {
     "data": {
      "text/plain": [
       "{'Thomas': 12, 'Julien': 13, 'Samuel': 17, 'Mohamed': 19.5, 'Julie': 16}"
      ]
     },
     "execution_count": 27,
     "metadata": {},
     "output_type": "execute_result"
    }
   ],
   "source": [
    "mon_dictionnaire"
   ]
  },
  {
   "cell_type": "code",
   "execution_count": 28,
   "metadata": {},
   "outputs": [],
   "source": [
    "del mon_dictionnaire[\"Julie\"]"
   ]
  },
  {
   "cell_type": "code",
   "execution_count": 29,
   "metadata": {},
   "outputs": [
    {
     "data": {
      "text/plain": [
       "{'Thomas': 12, 'Julien': 13, 'Samuel': 17, 'Mohamed': 19.5}"
      ]
     },
     "execution_count": 29,
     "metadata": {},
     "output_type": "execute_result"
    }
   ],
   "source": [
    "mon_dictionnaire"
   ]
  },
  {
   "cell_type": "code",
   "execution_count": 30,
   "metadata": {},
   "outputs": [
    {
     "data": {
      "text/plain": [
       "dict_keys(['Thomas', 'Julien', 'Samuel', 'Mohamed'])"
      ]
     },
     "execution_count": 30,
     "metadata": {},
     "output_type": "execute_result"
    }
   ],
   "source": [
    "mon_dictionnaire.keys()"
   ]
  },
  {
   "cell_type": "code",
   "execution_count": 31,
   "metadata": {},
   "outputs": [
    {
     "data": {
      "text/plain": [
       "dict_values([12, 13, 17, 19.5])"
      ]
     },
     "execution_count": 31,
     "metadata": {},
     "output_type": "execute_result"
    }
   ],
   "source": [
    "mon_dictionnaire.values()"
   ]
  },
  {
   "cell_type": "code",
   "execution_count": 32,
   "metadata": {},
   "outputs": [
    {
     "name": "stdout",
     "output_type": "stream",
     "text": [
      "Thomas\n",
      "Julien\n",
      "Samuel\n",
      "Mohamed\n"
     ]
    }
   ],
   "source": [
    "for cle in mon_dictionnaire.keys():\n",
    "    print(cle)"
   ]
  },
  {
   "cell_type": "code",
   "execution_count": 33,
   "metadata": {},
   "outputs": [
    {
     "name": "stdout",
     "output_type": "stream",
     "text": [
      "12\n",
      "13\n",
      "17\n",
      "19.5\n"
     ]
    }
   ],
   "source": [
    "for value in mon_dictionnaire.values():\n",
    "    print(value)"
   ]
  },
  {
   "cell_type": "code",
   "execution_count": 34,
   "metadata": {},
   "outputs": [
    {
     "data": {
      "text/plain": [
       "dict_items([('Thomas', 12), ('Julien', 13), ('Samuel', 17), ('Mohamed', 19.5)])"
      ]
     },
     "execution_count": 34,
     "metadata": {},
     "output_type": "execute_result"
    }
   ],
   "source": [
    "mon_dictionnaire.items()"
   ]
  },
  {
   "cell_type": "code",
   "execution_count": null,
   "metadata": {},
   "outputs": [],
   "source": [
    "for cle_tuple in mon_dictionnaire.items():"
   ]
  },
  {
   "cell_type": "markdown",
   "metadata": {},
   "source": [
    "## Exercie manipulation des dictionnaires"
   ]
  },
  {
   "cell_type": "code",
   "execution_count": 48,
   "metadata": {},
   "outputs": [],
   "source": [
    "import numpy"
   ]
  },
  {
   "cell_type": "code",
   "execution_count": 49,
   "metadata": {},
   "outputs": [
    {
     "data": {
      "text/plain": [
       "15"
      ]
     },
     "execution_count": 49,
     "metadata": {},
     "output_type": "execute_result"
    }
   ],
   "source": [
    "note_eleve = {\n",
    "    \n",
    "    \"Marie\":15,\n",
    "    \"Samuel\":17,\n",
    "    \"Gaston\":12,\n",
    "    \"Fred\":10,\n",
    "    \"Mae\":5,\n",
    "    \"Julie\":15,\n",
    "    \"Zoe\":7,\n",
    "    \"Claire\":20,\n",
    "    \"Julien\":14,\n",
    "    \"Chloe\":8,\n",
    "    \"Gael\":9,\n",
    "    \"Samia\":15,\n",
    "    \"Omar\":11,\n",
    "    \"Gabriel\":16,\n",
    "    \"Manon\":2\n",
    "}\n",
    "len(note_eleve)"
   ]
  },
  {
   "cell_type": "code",
   "execution_count": 64,
   "metadata": {},
   "outputs": [
    {
     "name": "stdout",
     "output_type": "stream",
     "text": [
      "moyenne =  11.733333333333333\n"
     ]
    }
   ],
   "source": [
    "somme = 0\n",
    "for value in note_eleve.values():\n",
    "    somme += value\n",
    "\n",
    "Moyenne = somme/len(note_eleve.values())\n",
    "print(\"moyenne = \",Moyenne)"
   ]
  },
  {
   "cell_type": "code",
   "execution_count": 83,
   "metadata": {},
   "outputs": [
    {
     "data": {
      "text/plain": [
       "15"
      ]
     },
     "execution_count": 83,
     "metadata": {},
     "output_type": "execute_result"
    }
   ],
   "source": [
    "len(note_eleve)"
   ]
  },
  {
   "cell_type": "code",
   "execution_count": 82,
   "metadata": {},
   "outputs": [
    {
     "data": {
      "text/plain": [
       "11.733333333333333"
      ]
     },
     "execution_count": 82,
     "metadata": {},
     "output_type": "execute_result"
    }
   ],
   "source": [
    "numpy.mean(list(note_eleve.values()))"
   ]
  },
  {
   "cell_type": "code",
   "execution_count": 67,
   "metadata": {},
   "outputs": [],
   "source": [
    "dict_sup_moy = numpy.array(note_eleve.values())"
   ]
  },
  {
   "cell_type": "code",
   "execution_count": 68,
   "metadata": {},
   "outputs": [
    {
     "data": {
      "text/plain": [
       "array(dict_values([15, 17, 12, 10, 5, 15, 7, 20, 14, 8, 9, 15, 11, 16, 2]),\n",
       "      dtype=object)"
      ]
     },
     "execution_count": 68,
     "metadata": {},
     "output_type": "execute_result"
    }
   ],
   "source": [
    "dict_sup_moy"
   ]
  },
  {
   "cell_type": "code",
   "execution_count": 87,
   "metadata": {},
   "outputs": [
    {
     "name": "stdout",
     "output_type": "stream",
     "text": [
      "le nombre d'eleve sup a 11.70 est de 8 eleve\n"
     ]
    }
   ],
   "source": [
    "compteur_ = 0\n",
    "for value in note_eleve.values():\n",
    "    if value > Moyenne:\n",
    "          compteur_ += 1\n",
    "numbre_greater_mean =  compteur_\n",
    "print(\"le nombre d'eleve sup a %.2f est de %d eleve\"%(round(Moyenne,1), compteur_))"
   ]
  },
  {
   "cell_type": "code",
   "execution_count": 74,
   "metadata": {},
   "outputs": [
    {
     "data": {
      "text/plain": [
       "8"
      ]
     },
     "execution_count": 74,
     "metadata": {},
     "output_type": "execute_result"
    }
   ],
   "source": [
    "numbre_greater_mean"
   ]
  },
  {
   "cell_type": "code",
   "execution_count": 75,
   "metadata": {},
   "outputs": [
    {
     "data": {
      "text/plain": [
       "20"
      ]
     },
     "execution_count": 75,
     "metadata": {},
     "output_type": "execute_result"
    }
   ],
   "source": [
    "max(note_eleve.values())"
   ]
  },
  {
   "cell_type": "code",
   "execution_count": 76,
   "metadata": {},
   "outputs": [
    {
     "name": "stdout",
     "output_type": "stream",
     "text": [
      "['Claire']\n"
     ]
    }
   ],
   "source": [
    "the_first_student=[]\n",
    "for key, value in note_eleve.items():\n",
    "    if value == max(note_eleve.values()):\n",
    "        the_first_student.append(key)\n",
    "print(the_first_student)"
   ]
  },
  {
   "cell_type": "code",
   "execution_count": 78,
   "metadata": {},
   "outputs": [
    {
     "name": "stdout",
     "output_type": "stream",
     "text": [
      "nbre eleve qui ont un nom inferieur de 4 carecteres 2\n"
     ]
    }
   ],
   "source": [
    "compteur = 0\n",
    "for cle in note_eleve.keys():\n",
    "    if len(cle)<4:\n",
    "        compteur += 1\n",
    "print(\"nbre eleve qui ont un nom inferieur de 4 carecteres\", compteur)"
   ]
  },
  {
   "cell_type": "code",
   "execution_count": 79,
   "metadata": {},
   "outputs": [
    {
     "data": {
      "text/plain": [
       "dict_items([('Marie', 15), ('Samuel', 17), ('Gaston', 12), ('Fred', 10), ('Mae', 5), ('Julie', 15), ('Zoe', 7), ('Claire', 20), ('Julien', 14), ('Chloe', 8), ('Gael', 9), ('Samia', 15), ('Omar', 11), ('Gabriel', 16), ('Manon', 2)])"
      ]
     },
     "execution_count": 79,
     "metadata": {},
     "output_type": "execute_result"
    }
   ],
   "source": [
    "note_eleve.items()"
   ]
  },
  {
   "cell_type": "code",
   "execution_count": 80,
   "metadata": {},
   "outputs": [
    {
     "name": "stdout",
     "output_type": "stream",
     "text": [
      "list_prenom_note_paire ['Gaston', 'Fred', 'Claire', 'Julien', 'Chloe', 'Gabriel', 'Manon']\n"
     ]
    }
   ],
   "source": [
    "list_prenom_note_paire = []\n",
    "for key, value in note_eleve.items():\n",
    "    if value%2 ==0:\n",
    "        list_prenom_note_paire.append(key)\n",
    "print(\"list_prenom_note_paire\", list_prenom_note_paire)"
   ]
  },
  {
   "cell_type": "code",
   "execution_count": null,
   "metadata": {},
   "outputs": [],
   "source": []
  }
 ],
 "metadata": {
  "kernelspec": {
   "display_name": "Python 3",
   "language": "python",
   "name": "python3"
  },
  "language_info": {
   "codemirror_mode": {
    "name": "ipython",
    "version": 3
   },
   "file_extension": ".py",
   "mimetype": "text/x-python",
   "name": "python",
   "nbconvert_exporter": "python",
   "pygments_lexer": "ipython3",
   "version": "3.8.3"
  }
 },
 "nbformat": 4,
 "nbformat_minor": 4
}
